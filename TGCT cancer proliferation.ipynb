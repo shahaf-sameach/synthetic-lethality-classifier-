{
 "cells": [
  {
   "cell_type": "markdown",
   "metadata": {},
   "source": [
    "# TGCT cancer proliferation example\n",
    "------------------------------------------------------\n",
    "Follow the article for the TCGA samples that match the testicular germ cell tumor(TGCT).\n",
    "Start with all the needed imports:"
   ]
  },
  {
   "cell_type": "code",
   "execution_count": null,
   "metadata": {},
   "outputs": [],
   "source": [
    "from scipy.stats.stats import spearmanr\n",
    "import GOcSL"
   ]
  },
  {
   "cell_type": "markdown",
   "metadata": {},
   "source": [
    "# 1. Read the relevant data\n",
    "In this case, we focus on the TGCT data.\n",
    "\n",
    "1. Have the PCNA genes in csv list in working dir.\n",
    "2. Have Table S1a in working dir.\n",
    "3. Have a list of TCGA samples that match the testicular germ cell tumor(TGCT) in csv list in working dir.\n",
    "4. Load TCGA data and take from it only the Genes that are in the Human GAF and filter into a new var the TGCT columns"
   ]
  },
  {
   "cell_type": "code",
   "execution_count": null,
   "metadata": {},
   "outputs": [],
   "source": [
    "PCNA = GOcSL.dataloader.get_PCNA_genes(GOcSL.constants.PCNA_DATA_PATH)\n",
    "cSL  = GOcSL.dataloader.get_cSL_genes(GOcSL.constants.CSL_DATA_PATH)\n",
    "TCGA = GOcSL.dataloader.get_TCGA_data(GOcSL.constants.TCGA_DATA_PATH, GOcSL.constants.TGCT_SAMPLES_PATH)"
   ]
  },
  {
   "cell_type": "markdown",
   "metadata": {},
   "source": [
    "# 2. Calculate the PI (Proliferation Index)\n",
    "For each sample calculate:\n",
    "1. The PI\n",
    "2. cSL load using the 33 percentile genes\n",
    "3. GOcSL load using the 1 percentile genes\n",
    "4. Spearman correlation between 1 and 2, and 1 and 3 "
   ]
  },
  {
   "cell_type": "code",
   "execution_count": null,
   "metadata": {},
   "outputs": [],
   "source": [
    "cancer_PI  = GOcSL.utils.get_PI(PCNA, TCGA)\n",
    "CSL        = GOcSL.cSL.CSL_Classifier(cSL, TCGA)\n",
    "cSL_load   = CSL.get_cSL_load(33)\n",
    "GORF       = GOcSL.GO2SL.GO_Classifier(GOcSL.constants.HORLBECK_DATA, TCGA, GOcSL.constants.RANDOM_FOREST)\n",
    "GOcSL_load = GORF.get_GOSL_load(1)\n",
    "print('The cSL load and cancer proliferation Spearman correlation\\n')\n",
    "print(spearmanr(cSL_load,cancer_PI))\n",
    "print('The GOcSL load and cancer proliferation Spearman correlation\\n')\n",
    "print(spearmanr(GOcSL_load,cancer_PI))"
   ]
  }
 ],
 "metadata": {
  "kernelspec": {
   "display_name": "Python 3",
   "language": "python",
   "name": "python3"
  },
  "language_info": {
   "codemirror_mode": {
    "name": "ipython",
    "version": 3
   },
   "file_extension": ".py",
   "mimetype": "text/x-python",
   "name": "python",
   "nbconvert_exporter": "python",
   "pygments_lexer": "ipython3",
   "version": "3.7.4"
  }
 },
 "nbformat": 4,
 "nbformat_minor": 2
}
