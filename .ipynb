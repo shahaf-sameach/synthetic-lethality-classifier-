{
 "cells": [
  {
   "cell_type": "code",
   "execution_count": 1,
   "metadata": {},
   "outputs": [],
   "source": [
    "import pandas as pd"
   ]
  },
  {
   "cell_type": "code",
   "execution_count": 2,
   "metadata": {},
   "outputs": [],
   "source": [
    "genes_set = pd.read_csv('gsets_1')\n",
    "genes_set = genes_set.rename(columns={\"YAL002W$YAL011W\": \"pairs\"})\n",
    "sl_labels = pd.read_csv('sl_1')\n",
    "pairs_terms = genes_set.copy()\n",
    "pairs_terms['sl'] = sl_labels\n",
    "pairs_terms = pairs_terms.set_index('pairs')"
   ]
  },
  {
   "cell_type": "code",
   "execution_count": 3,
   "metadata": {},
   "outputs": [
    {
     "name": "stdout",
     "output_type": "stream",
     "text": [
      "  EXISTS: go-basic.obo\n",
      "go-basic.obo: fmt(1.2) rel(2019-10-07) 47,285 GO Terms\n"
     ]
    }
   ],
   "source": [
    "from goatools.base import get_godag\n",
    "godag = get_godag(\"go-basic.obo\")"
   ]
  },
  {
   "cell_type": "code",
   "execution_count": 4,
   "metadata": {},
   "outputs": [
    {
     "name": "stdout",
     "output_type": "stream",
     "text": [
      "HMS:0:00:03.522125  91,452 annotations READ: goa_yeast.gaf \n"
     ]
    }
   ],
   "source": [
    "from goatools.anno.gaf_reader import GafReader\n",
    "ogaf = GafReader(\"goa_yeast.gaf\")"
   ]
  },
  {
   "cell_type": "code",
   "execution_count": 5,
   "metadata": {},
   "outputs": [],
   "source": [
    "from collections import defaultdict\n",
    "lookup_terms = defaultdict(set)\n",
    "for assoc in ogaf.associations:\n",
    "    for syn in assoc.DB_Synonym:\n",
    "        lookup_terms[syn].add(assoc.GO_ID)"
   ]
  },
  {
   "cell_type": "code",
   "execution_count": 12,
   "metadata": {},
   "outputs": [
    {
     "name": "stdout",
     "output_type": "stream",
     "text": [
      "Error YIL168W\n",
      "Error YIL170W\n"
     ]
    }
   ],
   "source": [
    "terms = defaultdict(set)\n",
    "gene_pairs = pairs_terms.index.values\n",
    "for idx, pair in enumerate(gene_pairs):\n",
    "#     if idx % 1000 == 0:\n",
    "#         print(\"working on {}/{}\".format(idx, len(gene_pairs)))\n",
    "    for gene in pair.split(\"$\"):\n",
    "        go_ids = lookup_terms.get(gene)\n",
    "        if go_ids is None:\n",
    "            print(\"Error\", gene)\n",
    "        else:\n",
    "            for go_id in go_ids:\n",
    "                term = godag.get(go_id)\n",
    "                if term.namespace == 'biological_process':\n",
    "                    terms[go_id].add(pair)"
   ]
  },
  {
   "cell_type": "code",
   "execution_count": 13,
   "metadata": {},
   "outputs": [
    {
     "name": "stderr",
     "output_type": "stream",
     "text": [
      "/usr/local/lib/python3.7/site-packages/ipykernel_launcher.py:1: FutureWarning: Sorting because non-concatenation axis is not aligned. A future version\n",
      "of pandas will change to not sort by default.\n",
      "\n",
      "To accept the future behavior, pass 'sort=False'.\n",
      "\n",
      "To retain the current behavior and silence the warning, pass 'sort=True'.\n",
      "\n",
      "  \"\"\"Entry point for launching an IPython kernel.\n"
     ]
    }
   ],
   "source": [
    "pairs_terms = pd.concat([pd.DataFrame(columns=terms.keys()), pairs_terms])\n",
    "pairs_terms = pairs_terms.fillna(0)"
   ]
  },
  {
   "cell_type": "code",
   "execution_count": 14,
   "metadata": {},
   "outputs": [],
   "source": [
    "for term, pairs in terms.items():\n",
    "    pairs_terms.loc[pairs, [term]] += 1"
   ]
  },
  {
   "cell_type": "code",
   "execution_count": 65,
   "metadata": {},
   "outputs": [],
   "source": [
    "# # remove column without no information\n",
    "# nunique = pairs_terms.apply(pd.Series.nunique)\n",
    "# cols_to_drop = nunique[nunique == 1].index\n",
    "# print(\"dropping {} columns\".format(len(cols_to_drop)))\n",
    "# pairs_terms.drop(cols_to_drop, axis=1)"
   ]
  },
  {
   "cell_type": "code",
   "execution_count": 3,
   "metadata": {},
   "outputs": [],
   "source": [
    "# pairs_terms.to_pickle(\"pairs_terms.pkl\")\n",
    "pairs_terms = pd.read_pickle(\"pairs_terms.pkl\")"
   ]
  },
  {
   "cell_type": "code",
   "execution_count": 4,
   "metadata": {},
   "outputs": [],
   "source": [
    "X = pairs_terms.loc[:, pairs_terms.columns != 'sl']\n",
    "Y = pairs_terms['sl']"
   ]
  },
  {
   "cell_type": "code",
   "execution_count": 5,
   "metadata": {},
   "outputs": [],
   "source": [
    "from sklearn.model_selection import train_test_split\n",
    "X_train, X_test, y_train, y_test = train_test_split(X, Y, test_size=0.2)"
   ]
  },
  {
   "cell_type": "code",
   "execution_count": 6,
   "metadata": {},
   "outputs": [],
   "source": [
    "from sklearn.linear_model import LogisticRegression\n",
    "model = LogisticRegression()"
   ]
  },
  {
   "cell_type": "code",
   "execution_count": 7,
   "metadata": {},
   "outputs": [
    {
     "name": "stderr",
     "output_type": "stream",
     "text": [
      "/usr/local/lib/python3.7/site-packages/sklearn/linear_model/logistic.py:432: FutureWarning: Default solver will be changed to 'lbfgs' in 0.22. Specify a solver to silence this warning.\n",
      "  FutureWarning)\n"
     ]
    },
    {
     "data": {
      "text/plain": [
       "LogisticRegression(C=1.0, class_weight=None, dual=False, fit_intercept=True,\n",
       "          intercept_scaling=1, max_iter=100, multi_class='warn',\n",
       "          n_jobs=None, penalty='l2', random_state=None, solver='warn',\n",
       "          tol=0.0001, verbose=0, warm_start=False)"
      ]
     },
     "execution_count": 7,
     "metadata": {},
     "output_type": "execute_result"
    }
   ],
   "source": [
    "model.fit(X, Y)"
   ]
  },
  {
   "cell_type": "code",
   "execution_count": 8,
   "metadata": {},
   "outputs": [],
   "source": [
    "standard_model = pd.read_csv('all.onto_genes.features.cv_all.rf.predictions')\n",
    "standard_model[standard_model['0'] >= 0.5] = 1\n",
    "standard_model[standard_model['0'] < 0.5] = 0\n",
    "standard_model['pairs'] = pairs_terms.index.values\n",
    "standard_model = standard_model.set_index('pairs')\n",
    "standard_model = standard_model.rename(columns={\"0\": \"sl\"})\n"
   ]
  },
  {
   "cell_type": "code",
   "execution_count": 9,
   "metadata": {},
   "outputs": [],
   "source": [
    "standard_model.to_pickle(\"standard_model.pkl\")\n",
    "# standard_model = pd.read_pickle(\"standard_model.pkl\")"
   ]
  },
  {
   "cell_type": "code",
   "execution_count": 10,
   "metadata": {},
   "outputs": [
    {
     "data": {
      "text/plain": [
       "0.9552258814066759"
      ]
     },
     "execution_count": 10,
     "metadata": {},
     "output_type": "execute_result"
    }
   ],
   "source": [
    "y_pred = model.predict(X)\n",
    "from sklearn.metrics import accuracy_score\n",
    "accuracy_score(Y, standard_model['sl'])"
   ]
  },
  {
   "cell_type": "code",
   "execution_count": 11,
   "metadata": {},
   "outputs": [
    {
     "data": {
      "text/plain": [
       "0.942594992329118"
      ]
     },
     "execution_count": 11,
     "metadata": {},
     "output_type": "execute_result"
    }
   ],
   "source": [
    "accuracy_score(Y, y_pred)"
   ]
  },
  {
   "cell_type": "code",
   "execution_count": 12,
   "metadata": {},
   "outputs": [
    {
     "name": "stdout",
     "output_type": "stream",
     "text": [
      "theirs:\n",
      "              precision    recall  f1-score   support\n",
      "\n",
      "      non sl       0.96      0.99      0.98    124311\n",
      "          sl       0.81      0.51      0.63      9963\n",
      "\n",
      "   micro avg       0.96      0.96      0.96    134274\n",
      "   macro avg       0.89      0.75      0.80    134274\n",
      "weighted avg       0.95      0.96      0.95    134274\n",
      "\n"
     ]
    }
   ],
   "source": [
    "from sklearn.metrics import classification_report\n",
    "target_names = ['non sl', 'sl']\n",
    "print(\"theirs:\")\n",
    "print(classification_report(Y, standard_model, target_names=target_names))"
   ]
  },
  {
   "cell_type": "code",
   "execution_count": 13,
   "metadata": {},
   "outputs": [
    {
     "name": "stdout",
     "output_type": "stream",
     "text": [
      "ours:\n",
      "              precision    recall  f1-score   support\n",
      "\n",
      "      non sl       0.94      1.00      0.97    124311\n",
      "          sl       0.88      0.26      0.40      9963\n",
      "\n",
      "   micro avg       0.94      0.94      0.94    134274\n",
      "   macro avg       0.91      0.63      0.69    134274\n",
      "weighted avg       0.94      0.94      0.93    134274\n",
      "\n"
     ]
    }
   ],
   "source": [
    "print(\"ours:\")\n",
    "print(classification_report(Y, y_pred, target_names=target_names))"
   ]
  },
  {
   "cell_type": "code",
   "execution_count": null,
   "metadata": {},
   "outputs": [],
   "source": []
  }
 ],
 "metadata": {
  "kernelspec": {
   "display_name": "Python 3",
   "language": "python",
   "name": "python3"
  },
  "language_info": {
   "codemirror_mode": {
    "name": "ipython",
    "version": 3
   },
   "file_extension": ".py",
   "mimetype": "text/x-python",
   "name": "python",
   "nbconvert_exporter": "python",
   "pygments_lexer": "ipython3",
   "version": "3.7.4"
  }
 },
 "nbformat": 4,
 "nbformat_minor": 2
}
