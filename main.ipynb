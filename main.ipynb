{
 "cells": [
  {
   "cell_type": "code",
   "execution_count": 179,
   "metadata": {},
   "outputs": [],
   "source": [
    "import pandas as pd"
   ]
  },
  {
   "cell_type": "code",
   "execution_count": 180,
   "metadata": {},
   "outputs": [],
   "source": [
    "genes_set = pd.read_csv('gsets_1')\n",
    "genes_set = genes_set.rename(columns={\"YAL002W$YAL011W\": \"pairs\"})\n",
    "sl_labels = pd.read_csv('sl_1')\n",
    "pairs_terms = genes_set.copy()\n",
    "pairs_terms['sl'] = sl_labels\n",
    "pairs_terms = pairs_terms.set_index('pairs')"
   ]
  },
  {
   "cell_type": "code",
   "execution_count": 181,
   "metadata": {},
   "outputs": [
    {
     "name": "stdout",
     "output_type": "stream",
     "text": [
      "  EXISTS: go-basic.obo\n",
      "go-basic.obo: fmt(1.2) rel(2019-10-07) 47,285 GO Terms; optional_attrs(relationship)\n"
     ]
    }
   ],
   "source": [
    "from goatools.base import get_godag\n",
    "godag = get_godag(\"go-basic.obo\", optional_attrs='relationship')"
   ]
  },
  {
   "cell_type": "code",
   "execution_count": 182,
   "metadata": {
    "scrolled": true
   },
   "outputs": [
    {
     "name": "stdout",
     "output_type": "stream",
     "text": [
      "HMS:0:00:04.747125  91,452 annotations READ: goa_yeast.gaf \n"
     ]
    }
   ],
   "source": [
    "from goatools.anno.gaf_reader import GafReader\n",
    "ogaf = GafReader(\"goa_yeast.gaf\")"
   ]
  },
  {
   "cell_type": "code",
   "execution_count": 183,
   "metadata": {},
   "outputs": [
    {
     "data": {
      "text/plain": [
       "ntgafobj(DB='UniProtKB', DB_ID='A0A023PYF4', DB_Symbol='YER145C-A', Qualifier=set(), GO_ID='GO:0005575', DB_Reference={'GO_REF:0000015'}, Evidence_Code='ND', With_From=set(), NS='CC', DB_Name={'Uncharacterized protein YER145C-A'}, DB_Synonym={'YER145C-A'}, DB_Type='protein', Taxon=[559292], Date=datetime.date(2003, 7, 30), Assigned_By='SGD', Extension=None, Gene_Product_Form_ID=set())"
      ]
     },
     "execution_count": 183,
     "metadata": {},
     "output_type": "execute_result"
    }
   ],
   "source": [
    "ogaf.associations[1]"
   ]
  },
  {
   "cell_type": "code",
   "execution_count": 213,
   "metadata": {},
   "outputs": [],
   "source": [
    "from collections import defaultdict\n",
    "lookup_terms = defaultdict(set)\n",
    "for assoc in ogaf.associations:\n",
    "    for syn in assoc.DB_Synonym:\n",
    "        lookup_terms[syn].add(assoc.GO_ID)"
   ]
  },
  {
   "cell_type": "code",
   "execution_count": 214,
   "metadata": {},
   "outputs": [
    {
     "data": {
      "text/plain": [
       "1255320"
      ]
     },
     "execution_count": 214,
     "metadata": {},
     "output_type": "execute_result"
    }
   ],
   "source": [
    "sum([1 for go_id in lookup_terms.values() for go_id in go_ids])"
   ]
  },
  {
   "cell_type": "code",
   "execution_count": 215,
   "metadata": {},
   "outputs": [
    {
     "data": {
      "text/plain": [
       "17435"
      ]
     },
     "execution_count": 215,
     "metadata": {},
     "output_type": "execute_result"
    }
   ],
   "source": [
    "len(lookup_terms.keys())"
   ]
  },
  {
   "cell_type": "code",
   "execution_count": 216,
   "metadata": {},
   "outputs": [],
   "source": [
    "go_ids = set()\n",
    "for v in lookup_terms.values():\n",
    "    for go_id in v:\n",
    "        go_ids.add(go_id)"
   ]
  },
  {
   "cell_type": "code",
   "execution_count": 217,
   "metadata": {},
   "outputs": [],
   "source": [
    "from goatools.gosubdag.gosubdag import GoSubDag\n",
    "optional_relationships = {'regulates', 'negatively_regulates', 'positively_regulates'}\n",
    "gosubdag_r1 = GoSubDag(go_ids, godag, relationships=optional_relationships, prt=None)\n",
    "parents = gosubdag_r1.rcntobj.go2parents"
   ]
  },
  {
   "cell_type": "code",
   "execution_count": 218,
   "metadata": {},
   "outputs": [],
   "source": [
    "for k in lookup_terms.keys():\n",
    "    parents_go_ids = set()\n",
    "    for go_id in lookup_terms.get(k):\n",
    "        parents_go_ids.update(parents.get(go_id))\n",
    "    lookup_terms[k].update(parents_go_ids)"
   ]
  },
  {
   "cell_type": "code",
   "execution_count": 219,
   "metadata": {},
   "outputs": [
    {
     "data": {
      "text/plain": [
       "107103205"
      ]
     },
     "execution_count": 219,
     "metadata": {},
     "output_type": "execute_result"
    }
   ],
   "source": [
    "sum([1 for go_id in lookup_terms.values() for go_id in go_ids])"
   ]
  },
  {
   "cell_type": "code",
   "execution_count": 197,
   "metadata": {},
   "outputs": [
    {
     "data": {
      "text/plain": [
       "17435"
      ]
     },
     "execution_count": 197,
     "metadata": {},
     "output_type": "execute_result"
    }
   ],
   "source": [
    "len(lookup_terms.keys())"
   ]
  },
  {
   "cell_type": "code",
   "execution_count": 220,
   "metadata": {},
   "outputs": [
    {
     "name": "stdout",
     "output_type": "stream",
     "text": [
      "Error YIL168W\n",
      "Error YIL170W\n"
     ]
    }
   ],
   "source": [
    "terms = defaultdict(set)\n",
    "gene_pairs = pairs_terms.index.values\n",
    "gens_terms = {}\n",
    "for idx, pair in enumerate(gene_pairs):\n",
    "#     if idx % 1000 == 0:\n",
    "#         print(\"working on {}/{}\".format(idx, len(gene_pairs)))\n",
    "    for gene in pair.split(\"$\"):\n",
    "        go_ids = lookup_terms.get(gene)\n",
    "        if go_ids is None:\n",
    "            print(\"Error\", gene)\n",
    "        else:\n",
    "            for go_id in go_ids:\n",
    "                term = godag.get(go_id)\n",
    "                if term.namespace == 'biological_process':\n",
    "                    terms[go_id].add(pair)\n",
    " "
   ]
  },
  {
   "cell_type": "code",
   "execution_count": 221,
   "metadata": {},
   "outputs": [],
   "source": [
    "pairs_terms = pd.concat([pd.DataFrame(columns=terms.keys()), pairs_terms], sort=False)\n",
    "pairs_terms = pairs_terms.fillna(0)"
   ]
  },
  {
   "cell_type": "code",
   "execution_count": null,
   "metadata": {},
   "outputs": [],
   "source": [
    "for term, pairs in terms.items():\n",
    "    pairs_terms.loc[pairs, [term]] += 1"
   ]
  },
  {
   "cell_type": "code",
   "execution_count": null,
   "metadata": {},
   "outputs": [],
   "source": [
    "pairs_terms.head()"
   ]
  },
  {
   "cell_type": "code",
   "execution_count": null,
   "metadata": {},
   "outputs": [],
   "source": [
    "pairs_terms.describe()"
   ]
  },
  {
   "cell_type": "code",
   "execution_count": null,
   "metadata": {},
   "outputs": [],
   "source": [
    "# remove column without no information\n",
    "nunique = pairs_terms.apply(pd.Series.nunique)\n",
    "cols_to_drop = nunique[nunique == 1].index\n",
    "print(\"dropping {} columns\".format(len(cols_to_drop)))\n",
    "pairs_terms.drop(cols_to_drop, axis=1)"
   ]
  },
  {
   "cell_type": "code",
   "execution_count": null,
   "metadata": {},
   "outputs": [],
   "source": [
    "pairs_terms.to_pickle(\"pairs_terms.pkl\")\n",
    "# pairs_terms = pd.read_pickle(\"pairs_terms.pkl\")"
   ]
  },
  {
   "cell_type": "code",
   "execution_count": null,
   "metadata": {},
   "outputs": [],
   "source": [
    "X = pairs_terms.loc[:, pairs_terms.columns != 'sl']\n",
    "Y = pairs_terms['sl']"
   ]
  },
  {
   "cell_type": "code",
   "execution_count": null,
   "metadata": {},
   "outputs": [],
   "source": [
    "from sklearn.model_selection import train_test_split\n",
    "X_train, X_test, y_train, y_test = train_test_split(X, Y, test_size=0.2)"
   ]
  },
  {
   "cell_type": "code",
   "execution_count": null,
   "metadata": {},
   "outputs": [],
   "source": [
    "from sklearn.linear_model import LogisticRegression\n",
    "model = LogisticRegression(solver='lbfgs')"
   ]
  },
  {
   "cell_type": "code",
   "execution_count": null,
   "metadata": {},
   "outputs": [],
   "source": [
    "model.fit(X, Y)"
   ]
  },
  {
   "cell_type": "code",
   "execution_count": null,
   "metadata": {},
   "outputs": [],
   "source": [
    "standard_model = pd.read_csv('all.onto_genes.features.cv_all.rf.predictions')\n",
    "standard_model = standard_model.rename(columns={\"0\": \"prob\"})\n",
    "standard_model['sl'] = -1\n",
    "standard_model.loc[standard_model['prob'] >= 0.5,'sl'] = 1\n",
    "standard_model.loc[standard_model['prob'] < 0.5,'sl'] = 0\n",
    "\n",
    "standard_model['pairs'] = pairs_terms.index.values\n",
    "standard_model = standard_model.set_index('pairs')"
   ]
  },
  {
   "cell_type": "code",
   "execution_count": null,
   "metadata": {},
   "outputs": [],
   "source": [
    "# standard_model.to_pickle(\"standard_model.pkl\")\n",
    "standard_model = pd.read_pickle(\"standard_model.pkl\")"
   ]
  },
  {
   "cell_type": "code",
   "execution_count": null,
   "metadata": {},
   "outputs": [],
   "source": [
    "y_pred = model.predict(X)\n",
    "from sklearn.metrics import accuracy_score\n",
    "accuracy_score(Y, standard_model['sl'])"
   ]
  },
  {
   "cell_type": "code",
   "execution_count": null,
   "metadata": {},
   "outputs": [],
   "source": [
    "accuracy_score(Y, y_pred)"
   ]
  },
  {
   "cell_type": "code",
   "execution_count": null,
   "metadata": {},
   "outputs": [],
   "source": [
    "from sklearn.metrics import classification_report\n",
    "target_names = ['non sl', 'sl']\n",
    "print(\"theirs:\")\n",
    "print(classification_report(Y, standard_model['sl'], target_names=target_names))"
   ]
  },
  {
   "cell_type": "code",
   "execution_count": null,
   "metadata": {},
   "outputs": [],
   "source": [
    "print(\"ours:\")\n",
    "print(classification_report(Y, y_pred, target_names=target_names))"
   ]
  },
  {
   "cell_type": "code",
   "execution_count": null,
   "metadata": {},
   "outputs": [],
   "source": [
    "from sklearn.metrics import roc_curve\n",
    "from sklearn.metrics import roc_auc_score\n",
    "from matplotlib import pyplot\n",
    "# generate a no skill prediction (majority class)\n",
    "ns_probs = [0 for _ in range(len(Y))]\n",
    "# predict probabilities\n",
    "lr_probs = model.predict_proba(X)\n",
    "# # keep probabilities for the positive outcome only\n",
    "lr_probs = lr_probs[:, 1]\n",
    "# calculate scores\n",
    "ns_auc = roc_auc_score(Y, ns_probs)\n",
    "lr_auc = roc_auc_score(Y, lr_probs)\n",
    "standard_auc = roc_auc_score(Y, standard_model['prob'])\n",
    "# summarize scores\n",
    "print('Baseline: ROC AUC=%.3f' % (ns_auc))\n",
    "print('Logistic: ROC AUC=%.3f' % (lr_auc))\n",
    "print('Standard: ROC AUC=%.3f' % (standard_auc))\n",
    "# calculate roc curves\n",
    "ns_fpr, ns_tpr, _ = roc_curve(Y, ns_probs)\n",
    "lr_fpr, lr_tpr, _ = roc_curve(Y, lr_probs)\n",
    "base_fpr, base_tpr, _ = roc_curve(Y, standard_model['prob'])\n",
    "# plot the roc curve for the model\n",
    "pyplot.plot(ns_fpr, ns_tpr, linestyle='--', label='Baseline')\n",
    "pyplot.plot(lr_fpr, lr_tpr, label='Logistic', color='green')\n",
    "pyplot.plot(base_fpr, base_tpr, label='Standard', color='red')\n",
    "# axis labels\n",
    "pyplot.xlabel('False Positive Rate')\n",
    "pyplot.ylabel('True Positive Rate')\n",
    "# show the legend\n",
    "pyplot.legend()\n",
    "# show the plot\n",
    "pyplot.show()"
   ]
  },
  {
   "cell_type": "code",
   "execution_count": null,
   "metadata": {},
   "outputs": [],
   "source": []
  }
 ],
 "metadata": {
  "kernelspec": {
   "display_name": "Python 3",
   "language": "python",
   "name": "python3"
  },
  "language_info": {
   "codemirror_mode": {
    "name": "ipython",
    "version": 3
   },
   "file_extension": ".py",
   "mimetype": "text/x-python",
   "name": "python",
   "nbconvert_exporter": "python",
   "pygments_lexer": "ipython3",
   "version": "3.7.4"
  }
 },
 "nbformat": 4,
 "nbformat_minor": 2
}
