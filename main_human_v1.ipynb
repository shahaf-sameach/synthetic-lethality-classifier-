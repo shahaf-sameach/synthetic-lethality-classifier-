{
 "cells": [
  {
   "cell_type": "code",
   "execution_count": 1,
   "metadata": {},
   "outputs": [],
   "source": [
    "%matplotlib inline\n",
    "#Imports\n",
    "import pandas as pd\n",
    "import numpy as np\n",
    "from goatools.base import get_godag\n",
    "from goatools.anno.gaf_reader import GafReader\n",
    "from goatools.gosubdag.gosubdag import GoSubDag\n",
    "from collections import defaultdict\n",
    "import pickle\n",
    "from scipy import interp\n",
    "import matplotlib.pyplot as plt\n",
    "from sklearn.linear_model import LogisticRegression\n",
    "from sklearn.linear_model import SGDClassifier\n",
    "from sklearn.ensemble import (RandomTreesEmbedding, RandomForestClassifier, AdaBoostClassifier,\n",
    "                              GradientBoostingClassifier, ExtraTreesClassifier)\n",
    "from sklearn.svm import SVC\n",
    "from sklearn.metrics import auc\n",
    "from sklearn.metrics import plot_roc_curve\n",
    "from sklearn.model_selection import StratifiedKFold\n",
    "from sklearn.metrics import roc_curve\n",
    "from sklearn.metrics import roc_auc_score\n",
    "from sklearn.naive_bayes import GaussianNB\n",
    "from sklearn.discriminant_analysis import QuadraticDiscriminantAnalysis"
   ]
  },
  {
   "cell_type": "code",
   "execution_count": 2,
   "metadata": {},
   "outputs": [
    {
     "name": "stdout",
     "output_type": "stream",
     "text": [
      "  EXISTS: go-basic.obo\n",
      "go-basic.obo: fmt(1.2) rel(2019-10-07) 47,285 GO Terms; optional_attrs(relationship)\n"
     ]
    }
   ],
   "source": [
    "#Get the GO terms\n",
    "godag = get_godag(\"go-basic.obo\", optional_attrs='relationship')"
   ]
  },
  {
   "cell_type": "code",
   "execution_count": 12,
   "metadata": {
    "scrolled": true
   },
   "outputs": [
    {
     "name": "stdout",
     "output_type": "stream",
     "text": [
      "HMS:0:01:01.118135 491,444 annotations READ: goa_human.gaf \n"
     ]
    }
   ],
   "source": [
    "#Get the GO Annotation File\n",
    "gogaf = GafReader(\"goa_human.gaf\")\n",
    "#Read holerback data\n",
    "horlbeck_data = pd.read_excel(\"mmc5.xlsx\", sheet_name=1, header=None, skiprows=4, usecols=[0,1,6], names=[\"g1\",\"g2\",\"sl\"])"
   ]
  },
  {
   "cell_type": "code",
   "execution_count": 48,
   "metadata": {},
   "outputs": [],
   "source": [
    "#Build pairs and sl columns in gene2sl\n",
    "gene2sl = pd.DataFrame()\n",
    "gene2sl['genes'] = horlbeck_data['g1'] + '$' + horlbeck_data['g2']\n",
    "gene2sl['sl'] = horlbeck_data['sl']\n",
    "#Keep -3 and under as sl, remove above 3 and non-sl is the rest\n",
    "gene2sl.loc[gene2sl.sl <= -3, 'sl'] = 1\n",
    "gene2sl.drop(gene2sl[gene2sl.sl >= 3].index, axis=0, inplace=True)\n",
    "gene2sl.loc[gene2sl.sl != 1, 'sl'] = 0\n",
    "#gene2sl.loc[gene2sl.sl >= 3, 'sl'] = -1\n",
    "#gene2sl.loc[(gene2sl.sl > -3) & (gene2sl.sl < 3), 'sl'] = 0\n",
    "#gene2sl   = pd.concat([genes, sl_lables], axis=1)"
   ]
  },
  {
   "cell_type": "code",
   "execution_count": 49,
   "metadata": {},
   "outputs": [
    {
     "data": {
      "text/plain": [
       "count    104670.000000\n",
       "mean          0.016031\n",
       "std           0.125597\n",
       "min           0.000000\n",
       "25%           0.000000\n",
       "50%           0.000000\n",
       "75%           0.000000\n",
       "max           1.000000\n",
       "Name: sl, dtype: float64"
      ]
     },
     "execution_count": 49,
     "metadata": {},
     "output_type": "execute_result"
    }
   ],
   "source": [
    "gene2sl.sl.describe()"
   ]
  },
  {
   "cell_type": "code",
   "execution_count": 50,
   "metadata": {},
   "outputs": [],
   "source": [
    "#Now get a gene to GO id dict.\n",
    "gene2goid = defaultdict(set)\n",
    "for assoc in gogaf.associations:\n",
    "    for syn in assoc.DB_Synonym:\n",
    "        gene2goid[syn].add(assoc.GO_ID)"
   ]
  },
  {
   "cell_type": "code",
   "execution_count": 51,
   "metadata": {},
   "outputs": [
    {
     "name": "stdout",
     "output_type": "stream",
     "text": [
      "Could not find the gene C14orf178 in GAF\n",
      "Could not find the gene Ltn1 in GAF\n",
      "Could not find the gene MINOS1-NBL1 in GAF\n",
      "Could not find the gene negative in GAF\n",
      " "
     ]
    }
   ],
   "source": [
    "%%prun  \n",
    "#%%time\n",
    "#Now build the hierarchy, meaning each node is represented by the no. of all its descendants\n",
    "genes2terms = pd.DataFrame()\n",
    "gene2terms = {}\n",
    "list_genes2terms = []\n",
    "for index, row in gene2sl.iterrows():\n",
    "    for gene in row['genes'].split(\"$\"):\n",
    "        #No such gene, build it\n",
    "        if gene not in gene2terms:\n",
    "            gene2terms[gene] = {}\n",
    "            go_ids = gene2goid.get(gene)\n",
    "            if go_ids is None:\n",
    "                print(\"Could not find the gene {} in GAF\".format(gene))               \n",
    "            else:\n",
    "                for go_id in go_ids:\n",
    "                    term = godag.get(go_id)\n",
    "                    if term.namespace == 'biological_process':                       \n",
    "                        #Mark the visitation of that leaf\n",
    "                        gene2terms[gene][go_id] = 1\n",
    "                        # Create a subset of the GO DAG which contains:\n",
    "                        # The common GO terms that are 'is_a' for the gene, by setting relationships=False\n",
    "                        gosubdag = GoSubDag(go_id, godag, relationships=False, prt=False) \n",
    "                        if go_id in gosubdag.rcntobj.go2parents:\n",
    "                            for p_go in gosubdag.rcntobj.go2parents[go_id]:\n",
    "                                dict_anc = gosubdag.go2nt[p_go]._asdict()\n",
    "                                gene2terms[gene][dict_anc['GO']] = 1\n",
    "                                                           \n",
    "    #Build the combination of the 2 genes\n",
    "    g1, g2 = row['genes'].split(\"$\")\n",
    "    gene1 = gene2terms[g1]\n",
    "    gene2 = gene2terms[g2]         \n",
    "    genesdict = {key: gene1.get(key, 0) + gene2.get(key, 0)\n",
    "                 for key in set(gene1) | set(gene2)}\n",
    "    genesdict['genes'] = row['genes']\n",
    "    genesdict['sl'] = row['sl']\n",
    "    list_genes2terms.append(genesdict)    \n"
   ]
  },
  {
   "cell_type": "code",
   "execution_count": 52,
   "metadata": {},
   "outputs": [],
   "source": [
    "#Save the list and gene2terms for later\n",
    "with open(\"list_genes2terms_human.txt\", \"wb\") as fp:   #Pickling\n",
    "    pickle.dump(list_genes2terms, fp) \n",
    "with open(\"gene2terms_human.txt\", \"wb\") as fp:   #Pickling\n",
    "    pickle.dump(gene2terms, fp) "
   ]
  },
  {
   "cell_type": "code",
   "execution_count": 53,
   "metadata": {},
   "outputs": [],
   "source": [
    "#Add the final data and clean NaN\n",
    "genes2terms = genes2terms.append(list_genes2terms, ignore_index=True)\n",
    "genes2terms = genes2terms.fillna(0)"
   ]
  },
  {
   "cell_type": "code",
   "execution_count": 54,
   "metadata": {},
   "outputs": [],
   "source": [
    "#Save the DataFrame for later\n",
    "genes2terms.to_pickle(\"genes2terms_012_human.pkl\")"
   ]
  },
  {
   "cell_type": "code",
   "execution_count": null,
   "metadata": {},
   "outputs": [],
   "source": [
    "#Remove columns with no information\n",
    "# nunique = genes2terms.apply(pd.Series.nunique)\n",
    "# cols_to_drop = nunique[nunique == 1].index\n",
    "# print(\"dropping {} columns\".format(len(cols_to_drop)))\n",
    "# genes2terms.drop(cols_to_drop, axis=1)"
   ]
  },
  {
   "cell_type": "code",
   "execution_count": null,
   "metadata": {},
   "outputs": [],
   "source": [
    "# Load the data\n",
    "genes2terms = pd.DataFrame()\n",
    "genes2terms = pd.read_pickle(\"genes2terms_012_human.pkl\")\n",
    "# genes2terms = genes2terms.set_index('genes')"
   ]
  },
  {
   "cell_type": "code",
   "execution_count": null,
   "metadata": {},
   "outputs": [],
   "source": [
    "#Get the standard model to which we are comparing\n",
    "# standard_model = pd.read_csv('all.onto_genes.features.cv_all.rf.predictions', header=None, names=[\"sl\"])\n",
    "# standard_model['pairs'] = genes2terms.index.values\n",
    "# standard_model = standard_model.set_index('pairs')"
   ]
  },
  {
   "cell_type": "code",
   "execution_count": 56,
   "metadata": {},
   "outputs": [
    {
     "name": "stdout",
     "output_type": "stream",
     "text": [
      "Execute run 0\n",
      "Execute run 1\n",
      "Execute run 2\n",
      "Execute run 3\n",
      "Execute run 4\n"
     ]
    },
    {
     "data": {
      "image/png": "[encoded data removed]",
      "text/plain": [
       "<Figure size 432x288 with 1 Axes>"
      ]
     },
     "metadata": {
      "needs_background": "light"
     },
     "output_type": "display_data"
    }
   ],
   "source": [
    "# Set the X, y data\n",
    "genes2terms = genes2terms.set_index('genes')\n",
    "X = genes2terms.drop(['sl'], axis=1)\n",
    "y = genes2terms['sl']\n",
    "# Run classifier with cross-validation  \n",
    "cv = StratifiedKFold(n_splits=5)\n",
    "\n",
    "#classifier = LogisticRegression(solver='lbfgs', max_iter=500) #---mean AUC was 0.73 with 6 cv\n",
    "#classifier = GradientBoostingClassifier(n_estimators=120) #-------mean auc 0.716 with 5 cv\n",
    "#classifier = AdaBoostClassifier() #-------------------------------mean auc 0.69 with 5 cv\n",
    "#classifier = GaussianNB() #---------------------------------------mean auc 0.59 with 5 cv\n",
    "#classifier = QuadraticDiscriminantAnalysis() #--------------------mean auc 0.59 with 5 cv\n",
    "#classifier = SGDClassifier(max_iter=1000) #-----------------------mean auc 0.65 with 5 cv\n",
    "#classifier = ExtraTreesClassifier(n_estimators=120)  #------------mean auc 0.84 with 5 cv\n",
    "\n",
    "classifier = RandomForestClassifier(n_estimators=250) #-----------so far the best mean auc 0.86 with 5 cv, 150/120 trees\n",
    "\n",
    "tprs = []\n",
    "aucs = []\n",
    "mean_fpr = np.linspace(0, 1, 100)\n",
    "\n",
    "fig, ax = plt.subplots()\n",
    "for i, (train, test) in enumerate(cv.split(X, y)):\n",
    "    print(\"Execute run {}\".format(i))\n",
    "    #Fit the model\n",
    "    classifier.fit(X.iloc[train], y.iloc[train])\n",
    "    #Get the predictions and keep AUC values for later plot\n",
    "    viz = plot_roc_curve(classifier, X.iloc[test], y.iloc[test],\n",
    "                         name='ROC fold {}'.format(i),\n",
    "                         alpha=0.3, lw=1, ax=ax)\n",
    "    interp_tpr = interp(mean_fpr, viz.fpr, viz.tpr)\n",
    "    interp_tpr[0] = 0.0\n",
    "    tprs.append(interp_tpr)\n",
    "    aucs.append(viz.roc_auc)\n",
    "# Plot ROC curves        \n",
    "ax.plot([0, 1], [0, 1], linestyle='--', lw=2, color='blue',\n",
    "        label='Chance', alpha=.8)\n",
    "\n",
    "mean_tpr = np.mean(tprs, axis=0)\n",
    "mean_tpr[-1] = 1.0\n",
    "mean_auc = auc(mean_fpr, mean_tpr)\n",
    "std_auc = np.std(aucs)\n",
    "ax.plot(mean_fpr, mean_tpr, color='green',\n",
    "        label=r'Mean ROC (AUC = %0.2f $\\pm$ %0.2f)' % (mean_auc, std_auc),\n",
    "        lw=2, alpha=.8)\n",
    "\n",
    "std_tpr = np.std(tprs, axis=0)\n",
    "tprs_upper = np.minimum(mean_tpr + std_tpr, 1)\n",
    "tprs_lower = np.maximum(mean_tpr - std_tpr, 0)\n",
    "ax.fill_between(mean_fpr, tprs_lower, tprs_upper, color='grey', alpha=.2,\n",
    "                label=r'$\\pm$ 1 std. dev.')\n",
    "#Now the standard model\n",
    "# standard_auc = roc_auc_score(y, standard_model['sl'])\n",
    "# base_fpr, base_tpr, _ = roc_curve(y, standard_model['sl'])\n",
    "# ax.plot(base_fpr, base_tpr, label=r'Standard ROC (AUC=%.3f)' % (standard_auc), color='red')\n",
    "#Design of plot\n",
    "ax.set(xlim=[-0.05, 1.05], ylim=[-0.05, 1.05],\n",
    "       title=\"{} ROC compared to standard model\".format(classifier.__class__.__name__))\n",
    "ax.legend(loc=\"lower right\")\n",
    "plt.show()    "
   ]
  },
  {
   "cell_type": "code",
   "execution_count": 57,
   "metadata": {},
   "outputs": [
    {
     "data": {
      "text/plain": [
       "0.7392149839205402"
      ]
     },
     "execution_count": 57,
     "metadata": {},
     "output_type": "execute_result"
    }
   ],
   "source": [
    "mean_auc"
   ]
  },
  {
   "cell_type": "code",
   "execution_count": null,
   "metadata": {},
   "outputs": [],
   "source": [
    "standard_auc"
   ]
  },
  {
   "cell_type": "code",
   "execution_count": null,
   "metadata": {},
   "outputs": [],
   "source": [
    "genes2terms.describe()"
   ]
  }
 ],
 "metadata": {
  "kernelspec": {
   "display_name": "Python 3",
   "language": "python",
   "name": "python3"
  },
  "language_info": {
   "codemirror_mode": {
    "name": "ipython",
    "version": 3
   },
   "file_extension": ".py",
   "mimetype": "text/x-python",
   "name": "python",
   "nbconvert_exporter": "python",
   "pygments_lexer": "ipython3",
   "version": "3.7.4"
  }
 },
 "nbformat": 4,
 "nbformat_minor": 2
}
